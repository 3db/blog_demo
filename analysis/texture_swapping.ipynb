{
 "cells": [
  {
   "cell_type": "code",
   "execution_count": 5,
   "id": "aboriginal-marshall",
   "metadata": {},
   "outputs": [],
   "source": [
    "import pandas as pd\n",
    "import numpy as np\n",
    "import json"
   ]
  },
  {
   "cell_type": "code",
   "execution_count": 6,
   "id": "perceived-storage",
   "metadata": {},
   "outputs": [],
   "source": [
    "class_map = json.load(open('../output/texture_swaps/class_maps.json'))\n",
    "df = pd.DataFrame.from_records(list(map(json.loads, open('../output/texture_swaps/details.log').readlines())))\n",
    "df = df.drop('render_args', axis=1).join(pd.DataFrame(df.render_args.values.tolist()))\n",
    "df['prediction'] = df['prediction'].apply(lambda x: class_map[x[0]])\n",
    "df['is_correct'] = (df['is_correct'] == 'True')"
   ]
  },
  {
   "cell_type": "code",
   "execution_count": 7,
   "id": "german-positive",
   "metadata": {},
   "outputs": [
    {
     "data": {
      "text/html": [
       "<div>\n",
       "<style scoped>\n",
       "    .dataframe tbody tr th:only-of-type {\n",
       "        vertical-align: middle;\n",
       "    }\n",
       "\n",
       "    .dataframe tbody tr th {\n",
       "        vertical-align: top;\n",
       "    }\n",
       "\n",
       "    .dataframe thead th {\n",
       "        text-align: right;\n",
       "    }\n",
       "</style>\n",
       "<table border=\"1\" class=\"dataframe\">\n",
       "  <thead>\n",
       "    <tr style=\"text-align: right;\">\n",
       "      <th></th>\n",
       "      <th>accuracy</th>\n",
       "      <th>most_frequent_prediction</th>\n",
       "    </tr>\n",
       "    <tr>\n",
       "      <th>MaterialControl.replacement_material</th>\n",
       "      <th></th>\n",
       "      <th></th>\n",
       "    </tr>\n",
       "  </thead>\n",
       "  <tbody>\n",
       "    <tr>\n",
       "      <th>cow.blend</th>\n",
       "      <td>0.000000</td>\n",
       "      <td>ashcan, trash can, garbage can, wastebin, ash ...</td>\n",
       "    </tr>\n",
       "    <tr>\n",
       "      <th>crocodile.blend</th>\n",
       "      <td>0.000000</td>\n",
       "      <td>mortar</td>\n",
       "    </tr>\n",
       "    <tr>\n",
       "      <th>elephant.blend</th>\n",
       "      <td>0.000000</td>\n",
       "      <td>shopping basket</td>\n",
       "    </tr>\n",
       "    <tr>\n",
       "      <th>keep_original</th>\n",
       "      <td>0.136364</td>\n",
       "      <td>bucket, pail</td>\n",
       "    </tr>\n",
       "    <tr>\n",
       "      <th>zebra.blend</th>\n",
       "      <td>0.000000</td>\n",
       "      <td>zebra</td>\n",
       "    </tr>\n",
       "  </tbody>\n",
       "</table>\n",
       "</div>"
      ],
      "text/plain": [
       "                                      accuracy  \\\n",
       "MaterialControl.replacement_material             \n",
       "cow.blend                             0.000000   \n",
       "crocodile.blend                       0.000000   \n",
       "elephant.blend                        0.000000   \n",
       "keep_original                         0.136364   \n",
       "zebra.blend                           0.000000   \n",
       "\n",
       "                                                               most_frequent_prediction  \n",
       "MaterialControl.replacement_material                                                     \n",
       "cow.blend                             ashcan, trash can, garbage can, wastebin, ash ...  \n",
       "crocodile.blend                                                                  mortar  \n",
       "elephant.blend                                                          shopping basket  \n",
       "keep_original                                                              bucket, pail  \n",
       "zebra.blend                                                                       zebra  "
      ]
     },
     "execution_count": 7,
     "metadata": {},
     "output_type": "execute_result"
    }
   ],
   "source": [
    "df.groupby('MaterialControl.replacement_material').agg(accuracy=('is_correct', 'mean'),\n",
    "                                                      most_frequent_prediction=('prediction', lambda x: x.mode()))"
   ]
  },
  {
   "cell_type": "code",
   "execution_count": null,
   "id": "becoming-market",
   "metadata": {},
   "outputs": [],
   "source": []
  }
 ],
 "metadata": {
  "kernelspec": {
   "display_name": "Python 3",
   "language": "python",
   "name": "python3"
  },
  "language_info": {
   "codemirror_mode": {
    "name": "ipython",
    "version": 3
   },
   "file_extension": ".py",
   "mimetype": "text/x-python",
   "name": "python",
   "nbconvert_exporter": "python",
   "pygments_lexer": "ipython3",
   "version": "3.8.5"
  }
 },
 "nbformat": 4,
 "nbformat_minor": 5
}
