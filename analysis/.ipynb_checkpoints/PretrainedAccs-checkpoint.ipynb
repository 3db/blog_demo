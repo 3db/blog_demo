{
 "cells": [
  {
   "cell_type": "code",
   "execution_count": 1,
   "id": "recovered-maker",
   "metadata": {},
   "outputs": [],
   "source": [
    "import pandas as pd\n",
    "import numpy as np\n",
    "import json"
   ]
  },
  {
   "cell_type": "code",
   "execution_count": 11,
   "id": "enhanced-cursor",
   "metadata": {},
   "outputs": [],
   "source": [
    "class_map = json.load(open('../output/part_of_object/class_maps.json'))\n",
    "df = pd.DataFrame.from_records(list(map(json.loads, open('/mnt/nfs/home/leclerc/3db_output/details.log').readlines())))\n",
    "df = df.drop('render_args', axis=1).join(pd.DataFrame(df.render_args.values.tolist()))"
   ]
  },
  {
   "cell_type": "code",
   "execution_count": 41,
   "id": "transsexual-pathology",
   "metadata": {},
   "outputs": [],
   "source": [
    "labs = np.array([wnid_to_ind[x[1]] for x in json.load(open('labels.json'))['image_filenames']])"
   ]
  },
  {
   "cell_type": "code",
   "execution_count": 33,
   "id": "thermal-opening",
   "metadata": {},
   "outputs": [],
   "source": [
    "wnid_to_ind = {v[0]: int(k) for k, v in \\\n",
    "     json.load(open('/data/theory/robustopt/datasets/imagenet_info/imagenet_class_index.json')).items()}"
   ]
  },
  {
   "cell_type": "code",
   "execution_count": 108,
   "id": "eligible-cattle",
   "metadata": {},
   "outputs": [
    {
     "name": "stderr",
     "output_type": "stream",
     "text": [
      "<ipython-input-108-5fcd6045da9f>:2: FutureWarning: The default value of regex will change from True to False in a future version.\n",
      "  grouped_df['model'] = grouped_df['model'].str.replace('.blend', '')\n"
     ]
    }
   ],
   "source": [
    "grouped_df = df.groupby('model').agg(acc=('is_correct', 'mean')).reset_index()\n",
    "grouped_df['model'] = grouped_df['model'].str.replace('.blend', '')\n",
    "grouped_df['class'] = \\\n",
    "    grouped_df['model'].apply(json.load(open('/mnt/nfs/home/aiilyas/3db/3db/resources/ycb_to_IN.json')).get)\n",
    "grouped_df['class'] = grouped_df['class'].apply(lambda x: x[0])\n",
    "grouped_df['orig_acc'] = grouped_df['class'].apply( \\\n",
    "    lambda x: (np.load('preds.npy')[:,0] == labs)[labs==x].mean()\n",
    ")\n",
    "del grouped_df['class']\n",
    "grouped_df['model'] = grouped_df['model'].str.replace('_', ' ')\n",
    "grouped_df['model'] = grouped_df['model'].str.replace('\\d+', '', regex=True).str.strip()\n",
    "grouped_df = grouped_df.sort_values('model')\n",
    "grouped_df = grouped_df[~grouped_df['model'].isin(['strawberry', 'toygun', 'helmet'])]\n",
    "\n",
    "final_df_1 = grouped_df[:8].set_index('model').T\n",
    "final_df_1 = final_df_1.round(3) * 100\n",
    "\n",
    "final_df_2 = grouped_df[8:].set_index('model').T\n",
    "final_df_2 = final_df_2.round(3) * 100"
   ]
  }
 ],
 "metadata": {
  "kernelspec": {
   "display_name": "Python 3",
   "language": "python",
   "name": "python3"
  },
  "language_info": {
   "codemirror_mode": {
    "name": "ipython",
    "version": 3
   },
   "file_extension": ".py",
   "mimetype": "text/x-python",
   "name": "python",
   "nbconvert_exporter": "python",
   "pygments_lexer": "ipython3",
   "version": "3.8.5"
  }
 },
 "nbformat": 4,
 "nbformat_minor": 5
}
