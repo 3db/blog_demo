{
 "cells": [
  {
   "cell_type": "code",
   "execution_count": 1,
   "id": "biological-islam",
   "metadata": {},
   "outputs": [],
   "source": [
    "import pandas as pd\n",
    "import numpy as np\n",
    "import json"
   ]
  },
  {
   "cell_type": "code",
   "execution_count": 9,
   "id": "defined-nerve",
   "metadata": {},
   "outputs": [],
   "source": [
    "class_map = json.load(open('../output/backgrounds/class_maps.json'))\n",
    "df = pd.DataFrame.from_records(list(map(json.loads, open('../output/backgrounds/details.log').readlines())))\n",
    "df = df.drop('render_args', axis=1).join(pd.DataFrame(df.render_args.values.tolist()))\n",
    "df['prediction'] = df['prediction'].apply(lambda x: class_map[x[0]])\n",
    "df['is_correct'] = (df['is_correct'] == 'True')"
   ]
  },
  {
   "cell_type": "code",
   "execution_count": null,
   "id": "about-garbage",
   "metadata": {},
   "outputs": [],
   "source": [
    "df.groupby('environment').agg(accuracy=('is_correct', 'mean'),\n",
    "                              most_frequent_prediction=('prediction', lambda x: x.mode()))"
   ]
  }
 ],
 "metadata": {
  "kernelspec": {
   "display_name": "Python 3",
   "language": "python",
   "name": "python3"
  },
  "language_info": {
   "codemirror_mode": {
    "name": "ipython",
    "version": 3
   },
   "file_extension": ".py",
   "mimetype": "text/x-python",
   "name": "python",
   "nbconvert_exporter": "python",
   "pygments_lexer": "ipython3",
   "version": "3.8.5"
  }
 },
 "nbformat": 4,
 "nbformat_minor": 5
}
